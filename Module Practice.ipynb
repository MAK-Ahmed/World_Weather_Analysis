{
 "cells": [
  {
   "cell_type": "code",
   "execution_count": 1,
   "id": "c069ba3d",
   "metadata": {},
   "outputs": [],
   "source": [
    "#import random module\n",
    "import random"
   ]
  },
  {
   "cell_type": "code",
   "execution_count": 2,
   "id": "2450a296",
   "metadata": {},
   "outputs": [
    {
     "data": {
      "text/plain": [
       "-74"
      ]
     },
     "execution_count": 2,
     "metadata": {},
     "output_type": "execute_result"
    }
   ],
   "source": [
    "#provides a intger between the two numbers\n",
    "random.randint(-90,90)"
   ]
  },
  {
   "cell_type": "code",
   "execution_count": 3,
   "id": "de5509f3",
   "metadata": {},
   "outputs": [
    {
     "data": {
      "text/plain": [
       "0.3193050528395688"
      ]
     },
     "execution_count": 3,
     "metadata": {},
     "output_type": "execute_result"
    }
   ],
   "source": [
    "#provides a floating number between 0 and 1.0\n",
    "random.random()"
   ]
  },
  {
   "cell_type": "code",
   "execution_count": 4,
   "id": "2af1694d",
   "metadata": {},
   "outputs": [
    {
     "data": {
      "text/plain": [
       "-82.38994767299054"
      ]
     },
     "execution_count": 4,
     "metadata": {},
     "output_type": "execute_result"
    }
   ],
   "source": [
    "#combnining the two will provide us with an integer and float\n",
    "random_number = random.randint(-90,89) + random.random()\n",
    "random_number"
   ]
  },
  {
   "cell_type": "code",
   "execution_count": 5,
   "id": "9a88d6a7",
   "metadata": {},
   "outputs": [],
   "source": [
    "#set x to be one and run a while loop using the combo of random numbers. add 1 and pull out the results until x=11\n",
    "x=1\n",
    "latitudes = []\n",
    "while x < 11:\n",
    "    random_lat =  random.randint(-90,89) + random.random()\n",
    "    latitudes.append(random_lat)\n",
    "    x+=1"
   ]
  },
  {
   "cell_type": "code",
   "execution_count": 6,
   "id": "fa4f3c05",
   "metadata": {},
   "outputs": [
    {
     "data": {
      "text/plain": [
       "[-34.27202447887398,\n",
       " -55.14559265196246,\n",
       " -78.56644300416976,\n",
       " 31.13357265237924,\n",
       " -27.9255601571174,\n",
       " -44.320459118213705,\n",
       " -19.15057263882468,\n",
       " -17.12476228353159,\n",
       " 80.76870213880761,\n",
       " -45.92982461392146]"
      ]
     },
     "execution_count": 6,
     "metadata": {},
     "output_type": "execute_result"
    }
   ],
   "source": [
    "latitudes"
   ]
  },
  {
   "cell_type": "code",
   "execution_count": 7,
   "id": "fe08dd23",
   "metadata": {},
   "outputs": [
    {
     "data": {
      "text/plain": [
       "21"
      ]
     },
     "execution_count": 7,
     "metadata": {},
     "output_type": "execute_result"
    }
   ],
   "source": [
    "#random range between the two numbers with an increment of 1\n",
    "random.randrange(-90, 90, step=1)"
   ]
  },
  {
   "cell_type": "code",
   "execution_count": 8,
   "id": "7638fdba",
   "metadata": {},
   "outputs": [
    {
     "data": {
      "text/plain": [
       "0"
      ]
     },
     "execution_count": 8,
     "metadata": {},
     "output_type": "execute_result"
    }
   ],
   "source": [
    "random.randrange(-90, 90, step=3)"
   ]
  },
  {
   "cell_type": "code",
   "execution_count": 9,
   "id": "bfe1e764",
   "metadata": {},
   "outputs": [
    {
     "data": {
      "text/plain": [
       "52.38855031143197"
      ]
     },
     "execution_count": 9,
     "metadata": {},
     "output_type": "execute_result"
    }
   ],
   "source": [
    "#allows for a floating decimal number between two numbers\n",
    "random.uniform(-90, 90) "
   ]
  },
  {
   "cell_type": "code",
   "execution_count": 10,
   "id": "622c3d1c",
   "metadata": {},
   "outputs": [],
   "source": [
    "#this module also has a built in random module\n",
    "import numpy as np"
   ]
  },
  {
   "cell_type": "code",
   "execution_count": 12,
   "id": "eeacf755",
   "metadata": {},
   "outputs": [
    {
     "data": {
      "text/plain": [
       "-48.04542322364727"
      ]
     },
     "execution_count": 12,
     "metadata": {},
     "output_type": "execute_result"
    }
   ],
   "source": [
    "#can be done in both ways\n",
    "np.random.uniform(-90.000,90.000)\n",
    "np.random.uniform(low=-90, high=90)"
   ]
  },
  {
   "cell_type": "code",
   "execution_count": 13,
   "id": "c56a8781",
   "metadata": {},
   "outputs": [
    {
     "data": {
      "text/plain": [
       "array([ 61.77773475, -17.94568234,  22.14352659, -56.12948604,\n",
       "        52.92374611,  21.30896611,  62.75285527, -43.5223563 ,\n",
       "        82.35368131,  44.42960649,  16.83658223, -71.2317893 ,\n",
       "       -57.82870254, -37.11965834,  60.59327666,  74.66371792,\n",
       "        11.3084388 ,  27.1434188 ,  35.70744875,  19.24413776,\n",
       "       -55.42219441,   0.17171445, -85.64249788, -78.37287037,\n",
       "        85.1628738 , -23.21830195,  27.09158924, -89.73248582,\n",
       "        88.83874478,  14.81700397,  11.44404368,  11.39859827,\n",
       "        73.40690443, -11.73587217, -68.30310553,  14.48820786,\n",
       "         3.92982671,  44.68930233, -25.45218714, -50.92587193,\n",
       "        24.58357038, -18.3902779 ,  64.36285353, -37.21400176,\n",
       "       -49.5119833 , -25.96734746,  20.09435219,  -6.37632563,\n",
       "        33.17440072, -59.22854221])"
      ]
     },
     "execution_count": 13,
     "metadata": {},
     "output_type": "execute_result"
    }
   ],
   "source": [
    "np.random.uniform(-90.000,90.000, size=50)"
   ]
  },
  {
   "cell_type": "code",
   "execution_count": 14,
   "id": "4a8374dc",
   "metadata": {},
   "outputs": [],
   "source": [
    "#import timeit module that uses the magic command to test how long a piece of code or function takes to run\n",
    "import timeit"
   ]
  },
  {
   "cell_type": "code",
   "execution_count": 15,
   "id": "93c93a2e",
   "metadata": {},
   "outputs": [
    {
     "name": "stdout",
     "output_type": "stream",
     "text": [
      "21.1 µs ± 1.35 µs per loop (mean ± std. dev. of 7 runs, 100000 loops each)\n"
     ]
    }
   ],
   "source": [
    "%timeit np.random.uniform(-90.000,90.000, size=1500)"
   ]
  },
  {
   "cell_type": "code",
   "execution_count": 16,
   "id": "947a019d",
   "metadata": {},
   "outputs": [
    {
     "name": "stdout",
     "output_type": "stream",
     "text": [
      "2.6 ms ± 167 µs per loop (mean ± std. dev. of 7 runs, 100 loops each)\n"
     ]
    }
   ],
   "source": [
    "def latitudes(size):\n",
    "    latitudes = []\n",
    "    x = 0\n",
    "    while x < (size):\n",
    "        random_lat = random.randint(-90, 90) + random.random()\n",
    "        latitudes.append(random_lat)\n",
    "        x += 1\n",
    "    return latitudes\n",
    "# Call the function with 1500.\n",
    "%timeit latitudes(1500)"
   ]
  },
  {
   "cell_type": "code",
   "execution_count": null,
   "id": "065ac928",
   "metadata": {},
   "outputs": [],
   "source": []
  }
 ],
 "metadata": {
  "kernelspec": {
   "display_name": "PythonData",
   "language": "python",
   "name": "pythondata"
  },
  "language_info": {
   "codemirror_mode": {
    "name": "ipython",
    "version": 3
   },
   "file_extension": ".py",
   "mimetype": "text/x-python",
   "name": "python",
   "nbconvert_exporter": "python",
   "pygments_lexer": "ipython3",
   "version": "3.7.13"
  }
 },
 "nbformat": 4,
 "nbformat_minor": 5
}
