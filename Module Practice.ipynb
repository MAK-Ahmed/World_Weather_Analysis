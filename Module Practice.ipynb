{
 "cells": [
  {
   "cell_type": "code",
   "execution_count": 1,
   "id": "c069ba3d",
   "metadata": {},
   "outputs": [],
   "source": [
    "#import random module\n",
    "import random"
   ]
  },
  {
   "cell_type": "code",
   "execution_count": 3,
   "id": "2450a296",
   "metadata": {},
   "outputs": [
    {
     "data": {
      "text/plain": [
       "-25"
      ]
     },
     "execution_count": 3,
     "metadata": {},
     "output_type": "execute_result"
    }
   ],
   "source": [
    "#provides a intger between the two numbers\n",
    "random.randint(-90,90)"
   ]
  },
  {
   "cell_type": "code",
   "execution_count": 4,
   "id": "de5509f3",
   "metadata": {},
   "outputs": [
    {
     "data": {
      "text/plain": [
       "0.8390151032301968"
      ]
     },
     "execution_count": 4,
     "metadata": {},
     "output_type": "execute_result"
    }
   ],
   "source": [
    "#provides a floating number between 0 and 1.0\n",
    "random.random()"
   ]
  },
  {
   "cell_type": "code",
   "execution_count": 15,
   "id": "2af1694d",
   "metadata": {},
   "outputs": [
    {
     "data": {
      "text/plain": [
       "11.796196966185743"
      ]
     },
     "execution_count": 15,
     "metadata": {},
     "output_type": "execute_result"
    }
   ],
   "source": [
    "#combnining the two will provide us with an integer and float\n",
    "random_number = random.randint(-90,89) + random.random()\n",
    "random_number"
   ]
  },
  {
   "cell_type": "code",
   "execution_count": 10,
   "id": "9a88d6a7",
   "metadata": {},
   "outputs": [],
   "source": [
    "#set x to be one and run a while loop using the combo of random numbers. add 1 and pull out the results until x=11\n",
    "x=1\n",
    "latitudes = []\n",
    "while x < 11:\n",
    "    random_lat =  random.randint(-90,89) + random.random()\n",
    "    latitudes.append(random_lat)\n",
    "    x+=1"
   ]
  },
  {
   "cell_type": "code",
   "execution_count": 11,
   "id": "fa4f3c05",
   "metadata": {},
   "outputs": [
    {
     "data": {
      "text/plain": [
       "[60.684048898617384,\n",
       " 53.160453203174086,\n",
       " 71.70019713607688,\n",
       " 20.343142218010826,\n",
       " 30.338208816165682,\n",
       " 71.55511767733503,\n",
       " 24.187621744400378,\n",
       " 42.040585856993715,\n",
       " 40.71823852365362,\n",
       " 54.48622197074687]"
      ]
     },
     "execution_count": 11,
     "metadata": {},
     "output_type": "execute_result"
    }
   ],
   "source": [
    "latitudes"
   ]
  },
  {
   "cell_type": "code",
   "execution_count": 12,
   "id": "fe08dd23",
   "metadata": {},
   "outputs": [
    {
     "data": {
      "text/plain": [
       "54"
      ]
     },
     "execution_count": 12,
     "metadata": {},
     "output_type": "execute_result"
    }
   ],
   "source": [
    "#random range between the two numbers with an increment of 1\n",
    "random.randrange(-90, 90, step=1)"
   ]
  },
  {
   "cell_type": "code",
   "execution_count": 13,
   "id": "7638fdba",
   "metadata": {},
   "outputs": [
    {
     "data": {
      "text/plain": [
       "-72"
      ]
     },
     "execution_count": 13,
     "metadata": {},
     "output_type": "execute_result"
    }
   ],
   "source": [
    "random.randrange(-90, 90, step=3)"
   ]
  },
  {
   "cell_type": "code",
   "execution_count": 14,
   "id": "bfe1e764",
   "metadata": {},
   "outputs": [
    {
     "data": {
      "text/plain": [
       "-78.48228157627912"
      ]
     },
     "execution_count": 14,
     "metadata": {},
     "output_type": "execute_result"
    }
   ],
   "source": [
    "#allows for a floating decimal number between two numbers\n",
    "random.uniform(-90, 90) "
   ]
  },
  {
   "cell_type": "code",
   "execution_count": 16,
   "id": "622c3d1c",
   "metadata": {},
   "outputs": [],
   "source": [
    "#this module also has a built in random module\n",
    "import numpy as np"
   ]
  },
  {
   "cell_type": "code",
   "execution_count": 17,
   "id": "eeacf755",
   "metadata": {},
   "outputs": [
    {
     "data": {
      "text/plain": [
       "86.52659876478609"
      ]
     },
     "execution_count": 17,
     "metadata": {},
     "output_type": "execute_result"
    }
   ],
   "source": [
    "#can be done in both ways\n",
    "np.random.uniform(-90.000,90.000)\n",
    " np.random.uniform(low=-90, high=90)"
   ]
  },
  {
   "cell_type": "code",
   "execution_count": 19,
   "id": "c56a8781",
   "metadata": {},
   "outputs": [
    {
     "data": {
      "text/plain": [
       "array([-39.9254396 ,  45.87314452,  23.57279579,  71.97330954,\n",
       "       -83.77689443,  23.20606056,  53.35297838,  11.55034278,\n",
       "       -12.39596469, -12.24572715,  24.06485577, -29.23956357,\n",
       "        68.23728167, -46.83008433, -78.82669564, -50.35213772,\n",
       "       -31.54162959, -58.32403651,  60.49166737, -57.26765264,\n",
       "        25.56790215, -74.79830994, -11.06772529, -38.23939042,\n",
       "       -54.76354161, -12.7222471 , -72.02397936, -75.43850491,\n",
       "        -7.11367935,  -6.84827086,  26.92530165, -67.80085695,\n",
       "       -68.54887871,   7.04457782,  10.79190688,  60.31691048,\n",
       "        -4.54637868,  78.67751249, -89.2801979 , -73.01919022,\n",
       "       -15.93829091,  39.42167128, -31.16179298,  58.18097863,\n",
       "        79.09979926,  73.64061627,   9.27595368,  62.23429464,\n",
       "       -42.98985989,  73.80212555])"
      ]
     },
     "execution_count": 19,
     "metadata": {},
     "output_type": "execute_result"
    }
   ],
   "source": [
    "np.random.uniform(-90.000,90.000, size=50)"
   ]
  },
  {
   "cell_type": "code",
   "execution_count": 20,
   "id": "4a8374dc",
   "metadata": {},
   "outputs": [],
   "source": [
    "#import timeit module that uses the magic command to test how long a piece of code or function takes to run\n",
    "import timeit"
   ]
  },
  {
   "cell_type": "code",
   "execution_count": 23,
   "id": "93c93a2e",
   "metadata": {},
   "outputs": [
    {
     "name": "stdout",
     "output_type": "stream",
     "text": [
      "19.2 µs ± 576 ns per loop (mean ± std. dev. of 7 runs, 10000 loops each)\n"
     ]
    }
   ],
   "source": [
    "%timeit np.random.uniform(-90.000,90.000, size=1500)"
   ]
  },
  {
   "cell_type": "code",
   "execution_count": 24,
   "id": "947a019d",
   "metadata": {},
   "outputs": [
    {
     "name": "stdout",
     "output_type": "stream",
     "text": [
      "2.72 ms ± 205 µs per loop (mean ± std. dev. of 7 runs, 100 loops each)\n"
     ]
    }
   ],
   "source": [
    "def latitudes(size):\n",
    "    latitudes = []\n",
    "    x = 0\n",
    "    while x < (size):\n",
    "        random_lat = random.randint(-90, 90) + random.random()\n",
    "        latitudes.append(random_lat)\n",
    "        x += 1\n",
    "    return latitudes\n",
    "# Call the function with 1500.\n",
    "%timeit latitudes(1500)"
   ]
  },
  {
   "cell_type": "code",
   "execution_count": null,
   "id": "065ac928",
   "metadata": {},
   "outputs": [],
   "source": []
  }
 ],
 "metadata": {
  "kernelspec": {
   "display_name": "PythonData",
   "language": "python",
   "name": "pythondata"
  },
  "language_info": {
   "codemirror_mode": {
    "name": "ipython",
    "version": 3
   },
   "file_extension": ".py",
   "mimetype": "text/x-python",
   "name": "python",
   "nbconvert_exporter": "python",
   "pygments_lexer": "ipython3",
   "version": "3.7.13"
  }
 },
 "nbformat": 4,
 "nbformat_minor": 5
}
